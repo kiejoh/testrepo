{
 "cells": [
  {
   "cell_type": "markdown",
   "id": "b617f909-1308-4902-a2f5-b2feb762cfd3",
   "metadata": {},
   "source": [
    "# Data Science Tools and Ecosystem"
   ]
  },
  {
   "cell_type": "markdown",
   "id": "c7074edc-7dc2-43c3-af02-0564723df643",
   "metadata": {},
   "source": [
    "## Author\n",
    "Kieran Johnson\n",
    "\n",
    "**Objectives:**\n",
    "- Popular Lanuages in DS\n",
    "- Popular Libraries in DS\n",
    "- Using arithmetic expressions in a Jupyter Lab\n",
    "- Tools used in DS\n",
    "- Ordered and unordered lists"
   ]
  },
  {
   "cell_type": "markdown",
   "id": "02e0b8ae-40c5-4642-9493-db1bfb9a6c26",
   "metadata": {},
   "source": [
    "In this notebook, Data Science Tools and Ecosystem are summarized."
   ]
  },
  {
   "cell_type": "markdown",
   "id": "d7ace818-f402-4d87-b358-cdf55b3632c1",
   "metadata": {},
   "source": [
    "Some of the popular languages data scientists use are:\n",
    "1. Python\n",
    "2. SQL\n",
    "3. R"
   ]
  },
  {
   "cell_type": "markdown",
   "id": "3366ab4b-5a12-48fb-8b63-b45b1027fd56",
   "metadata": {},
   "source": [
    "Some of the popular libraries data scientists use are:\n",
    "1. Matplotlib\n",
    "2. NumPy\n",
    "3. Pandas\n",
    "4. TensorFLow"
   ]
  },
  {
   "cell_type": "markdown",
   "id": "7abca0b3-8877-4c54-a8ef-11eef818f15b",
   "metadata": {},
   "source": [
    "|Data Science Tools| \n",
    "|:----------------|\n",
    "|Apache Spark|\n",
    "|Apache Hadoop|\n",
    "|TensorFLow|"
   ]
  },
  {
   "cell_type": "markdown",
   "id": "ebaa50ad-04e3-4950-9028-55ba41f78c35",
   "metadata": {},
   "source": [
    "### Below are a few examples of evaluating arithmetic expressions in Python"
   ]
  },
  {
   "cell_type": "code",
   "execution_count": 11,
   "id": "1e8f2545-c49b-411a-93f1-a0b58690dc5f",
   "metadata": {},
   "outputs": [
    {
     "data": {
      "text/plain": [
       "17"
      ]
     },
     "execution_count": 11,
     "metadata": {},
     "output_type": "execute_result"
    }
   ],
   "source": [
    "# This a simple arithmetic expression to mutiply then add integers\n",
    "(3*4)+5"
   ]
  },
  {
   "cell_type": "code",
   "execution_count": 17,
   "id": "298e69c0-b174-4c1e-bde3-c6a6256b3816",
   "metadata": {},
   "outputs": [
    {
     "name": "stdout",
     "output_type": "stream",
     "text": [
      "200 minutes is 3 hours and 20 minutes\n"
     ]
    }
   ],
   "source": [
    "# This will convert minutes to hours \n",
    "minutes = 200\n",
    "hours = int(minutes / 60)\n",
    "min = minutes % 60\n",
    "\n",
    "print(f\"{minutes} minutes is {hours} hours and {min} minutes\")"
   ]
  },
  {
   "cell_type": "code",
   "execution_count": null,
   "id": "2adbefa6-bfd9-4cf2-81dc-bc9d0c4d7d22",
   "metadata": {},
   "outputs": [],
   "source": []
  }
 ],
 "metadata": {
  "kernelspec": {
   "display_name": "Python 3 (ipykernel)",
   "language": "python",
   "name": "python3"
  },
  "language_info": {
   "codemirror_mode": {
    "name": "ipython",
    "version": 3
   },
   "file_extension": ".py",
   "mimetype": "text/x-python",
   "name": "python",
   "nbconvert_exporter": "python",
   "pygments_lexer": "ipython3",
   "version": "3.12.7"
  }
 },
 "nbformat": 4,
 "nbformat_minor": 5
}
